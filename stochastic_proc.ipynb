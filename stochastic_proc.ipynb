{
  "nbformat": 4,
  "nbformat_minor": 0,
  "metadata": {
    "colab": {
      "name": "stochastic_proc.ipynb",
      "provenance": [],
      "collapsed_sections": []
    },
    "kernelspec": {
      "name": "python3",
      "display_name": "Python 3"
    },
    "language_info": {
      "name": "python"
    }
  },
  "cells": [
    {
      "cell_type": "code",
      "metadata": {
        "colab": {
          "base_uri": "https://localhost:8080/",
          "height": 35
        },
        "id": "dfRxfgInexcs",
        "outputId": "87586100-31f3-4f3f-dbf4-1d245eddf100"
      },
      "source": [
        "import numpy as np\n",
        "from random import randrange\n",
        "from random import random\n",
        "from random import normalvariate\n",
        "from random import uniform\n",
        "from random import expovariate\n",
        "from statistics import mean\n",
        "\n",
        "'''\n",
        "DSP Class - UFPA - 2021\n",
        "Goal: Generate several different random processes to be later analyzed.\n",
        "@author: Aldebaro Klautau\n",
        "'''"
      ],
      "execution_count": 28,
      "outputs": [
        {
          "output_type": "execute_result",
          "data": {
            "application/vnd.google.colaboratory.intrinsic+json": {
              "type": "string"
            },
            "text/plain": [
              "'\\nDSP Class - UFPA - 2021\\nGoal: Generate several different random processes to be later analyzed.\\n@author: Aldebaro Klautau\\n'"
            ]
          },
          "metadata": {},
          "execution_count": 28
        }
      ]
    },
    {
      "cell_type": "code",
      "metadata": {
        "id": "yaHy33VcgIvu"
      },
      "source": [
        "def calculate_mean_of_given_random_variable(all_realizations, time_instant):\n",
        "    '''\n",
        "    Calculate the mean of a random variable extracted from a random process\n",
        "    :param all_realizations: random process matrix\n",
        "    :param time_instant: time corresponding to the desired random variable\n",
        "    :return: mean of specified random variable\n",
        "    '''\n",
        "    return mean(all_realizations[:,time_instant])"
      ],
      "execution_count": 29,
      "outputs": []
    },
    {
      "cell_type": "code",
      "metadata": {
        "id": "fs1gnkxHgQN2"
      },
      "source": [
        "def get_realization_process_number_1(num_samples=100):\n",
        "    '''\n",
        "    Generate one realization of your (customized) random process\n",
        "    :param num_samples: number of samples in this realization\n",
        "    :return: the waveform (vector) corresponding to the realization\n",
        "    '''\n",
        "    x_shape = (num_samples,) #define a shape\n",
        "    x = np.zeros(x_shape) #initialize\n",
        "    previous_sample = -1\n",
        "    for i in range(num_samples): #loop to generate all samples\n",
        "        this_sample = previous_sample + randrange(10) + 5*random() - uniform(2.5, 10.0) + expovariate(1 / 4)\n",
        "        x[i] = this_sample\n",
        "        previous_sample = this_sample\n",
        "    return x"
      ],
      "execution_count": 30,
      "outputs": []
    },
    {
      "cell_type": "code",
      "metadata": {
        "id": "WsLhjgv3fxcg"
      },
      "source": [
        "def get_realization_process_number_2(num_samples=100):\n",
        "    '''\n",
        "    Generate one realization of your (customized) random process\n",
        "    :param num_samples: number of samples in this realization\n",
        "    :return: the waveform (vector) corresponding to the realization\n",
        "    '''\n",
        "    x_shape = (num_samples,) #define a shape\n",
        "    x = np.zeros(x_shape) #initialize\n",
        "    chosen_variance = 12 #variance for both distributions\n",
        "    uniform_support = np.sqrt(12 * chosen_variance) #variance = support^2 / 12\n",
        "    for i in range(num_samples): #loop to generate all samples\n",
        "        coin = randrange(2)\n",
        "        if coin == 0:\n",
        "            this_sample = normalvariate(mu=0, sigma=np.sqrt(chosen_variance))\n",
        "        elif coin == 1:\n",
        "            this_sample = uniform(-uniform_support/2.0, uniform_support/2.0)\n",
        "        else:\n",
        "            raise Exception('Logic error!', coin)\n",
        "        x[i] = this_sample\n",
        "    return x\n"
      ],
      "execution_count": 31,
      "outputs": []
    },
    {
      "cell_type": "code",
      "metadata": {
        "id": "rZDnBt-ae4yA"
      },
      "source": [
        "def generate_process_realizations(method_to_generate_realization=None,\n",
        "                                           num_realizations=100,\n",
        "                                           num_samples_per_realization=100):\n",
        "    '''\n",
        "    Generates realizations of a given process.\n",
        "    :param method_to_generate_realization: method that will be called to get realization\n",
        "    :param num_realizations: number of realizations of the stochastic process\n",
        "    :param num_samples_per_realization: number of samples in each realization\n",
        "    :param output_file_name: name of file that will be written\n",
        "    :return all realizations of the random process as a numpy array of dimension\n",
        "            num_realizations x  num_samples_per_realization\n",
        "    '''\n",
        "    #initialize with zeros\n",
        "    all_realizations = np.zeros( (num_realizations, num_samples_per_realization) )\n",
        "    for m in range(num_realizations): #generate all realizations\n",
        "        all_realizations[m] = method_to_generate_realization(num_samples=num_samples_per_realization)\n",
        "    return all_realizations\n",
        "\n",
        "#generate realizations of the two random processes\n",
        "num_realizations=400\n",
        "num_samples_per_realization=150\n",
        "\n",
        "all_realizations = generate_process_realizations(method_to_generate_realization=get_realization_process_number_2,\n",
        "                                       num_realizations=num_realizations,\n",
        "                                       num_samples_per_realization=num_samples_per_realization)\n"
      ],
      "execution_count": 32,
      "outputs": []
    },
    {
      "cell_type": "code",
      "metadata": {
        "id": "lQlsCtXFfMlj"
      },
      "source": [
        "def plot_histogram_of_given_random_variable(all_realizations, time_instant):\n",
        "    pass #YOU NEED TO IMPLEMENT THIS METHOD"
      ],
      "execution_count": 33,
      "outputs": []
    },
    {
      "cell_type": "code",
      "metadata": {
        "id": "-GJ-G5wygisO"
      },
      "source": [
        "def estimate_auto_correlation(all_realizations, time_instant1, time_instant2):\n",
        "    pass #YOU NEED TO IMPLEMENT THIS METHOD"
      ],
      "execution_count": 34,
      "outputs": []
    },
    {
      "cell_type": "code",
      "metadata": {
        "id": "4jUm2UFjg0oc"
      },
      "source": [
        "M=20 #number of realizations of the stochastic process\n",
        "num_samples=500 #number of samples in each realization\n"
      ],
      "execution_count": 35,
      "outputs": []
    },
    {
      "cell_type": "code",
      "metadata": {
        "colab": {
          "base_uri": "https://localhost:8080/"
        },
        "id": "xD2tIaSpgkYI",
        "outputId": "a1d8e6e2-f48c-406b-dd64-48d1e289a3f9"
      },
      "source": [
        "print('Samples of my random process:')\n",
        "print(all_realizations) #print part of the random process\n",
        "time_instant = 30 #choosen time instant\n",
        "#calculate the mean and show it\n",
        "this_mean = calculate_mean_of_given_random_variable(all_realizations, time_instant)\n",
        "print('Mean at time instant', time_instant, 'is', this_mean)\n"
      ],
      "execution_count": 36,
      "outputs": [
        {
          "output_type": "stream",
          "name": "stdout",
          "text": [
            "Samples of my random process:\n",
            "[[-1.77462115 -5.97899263  3.84994454 ...  7.87885807 -0.56235209\n",
            "   9.88025955]\n",
            " [ 3.86671173  0.46602798  0.82790492 ...  5.60754142  5.03714192\n",
            "  -2.5000562 ]\n",
            " [ 4.59633391  3.2892701  -5.74602394 ...  2.83456379 -1.8206563\n",
            "   3.15802474]\n",
            " ...\n",
            " [ 1.27933716  1.14318682  0.66590147 ... -0.50082846 -2.21057834\n",
            "   2.88894375]\n",
            " [ 1.28814808 -2.28260877  4.35621207 ... -1.5617631  -0.82831665\n",
            "  -2.00397723]\n",
            " [-1.964881   -4.0549038   3.14081735 ...  1.56369478 -3.66271327\n",
            "   3.27348859]]\n",
            "Mean at time instant 30 is -0.0066793656223249785\n"
          ]
        }
      ]
    }
  ]
}