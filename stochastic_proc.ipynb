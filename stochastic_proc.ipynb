{
 "cells": [
  {
   "cell_type": "markdown",
   "metadata": {},
   "source": [
    "<a href=\"https://colab.research.google.com/github/aldebaro/dsp-class-ufpa/blob/main/stochastic_proc.ipynb\" target=\"_parent\"><img src=\"https://colab.research.google.com/assets/colab-badge.svg\" alt=\"Open In Colab\"/></a>"
   ]
  },
  {
   "cell_type": "code",
   "execution_count": 2,
   "metadata": {
    "colab": {
     "base_uri": "https://localhost:8080/",
     "height": 35
    },
    "id": "dfRxfgInexcs",
    "outputId": "87586100-31f3-4f3f-dbf4-1d245eddf100"
   },
   "outputs": [
    {
     "data": {
      "text/plain": [
       "'\\nDSP Class - UFPA - 2021\\nGoal: Generate several different random processes to be later analyzed.\\n@author: Aldebaro Klautau\\n'"
      ]
     },
     "execution_count": 2,
     "metadata": {},
     "output_type": "execute_result"
    }
   ],
   "source": [
    "import numpy as np\n",
    "from random import randrange\n",
    "from random import random\n",
    "from random import normalvariate\n",
    "from random import uniform\n",
    "from random import expovariate\n",
    "from statistics import mean\n",
    "\n",
    "'''\n",
    "DSP Class - UFPA - 2021\n",
    "Goal: Generate several different random processes to be later analyzed.\n",
    "@author: Aldebaro Klautau\n",
    "'''"
   ]
  },
  {
   "cell_type": "code",
   "execution_count": 3,
   "metadata": {
    "id": "yaHy33VcgIvu"
   },
   "outputs": [],
   "source": [
    "def calculate_mean_of_given_random_variable(all_realizations, time_instant):\n",
    "    '''\n",
    "    Calculate the mean of a random variable extracted from a random process\n",
    "    :param all_realizations: random process matrix\n",
    "    :param time_instant: time corresponding to the desired random variable\n",
    "    :return: mean of specified random variable\n",
    "    '''\n",
    "    return mean(all_realizations[:,time_instant])"
   ]
  },
  {
   "cell_type": "code",
   "execution_count": 4,
   "metadata": {
    "id": "fs1gnkxHgQN2"
   },
   "outputs": [],
   "source": [
    "def get_realization_process_number_1(num_samples=100):\n",
    "    '''\n",
    "    Generate one realization of your (customized) random process\n",
    "    :param num_samples: number of samples in this realization\n",
    "    :return: the waveform (vector) corresponding to the realization\n",
    "    '''\n",
    "    x_shape = (num_samples,) #define a shape\n",
    "    x = np.zeros(x_shape) #initialize\n",
    "    previous_sample = -1\n",
    "    for i in range(num_samples): #loop to generate all samples\n",
    "        this_sample = previous_sample + randrange(10) + 5*random() - uniform(2.5, 10.0) + expovariate(1 / 4)\n",
    "        x[i] = this_sample\n",
    "        previous_sample = this_sample\n",
    "    return x"
   ]
  },
  {
   "cell_type": "code",
   "execution_count": 5,
   "metadata": {
    "id": "WsLhjgv3fxcg"
   },
   "outputs": [],
   "source": [
    "def get_realization_process_number_2(num_samples=100):\n",
    "    '''\n",
    "    Generate one realization of your (customized) random process\n",
    "    :param num_samples: number of samples in this realization\n",
    "    :return: the waveform (vector) corresponding to the realization\n",
    "    '''\n",
    "    x_shape = (num_samples,) #define a shape\n",
    "    x = np.zeros(x_shape) #initialize\n",
    "    chosen_variance = 12 #variance for both distributions\n",
    "    uniform_support = np.sqrt(12 * chosen_variance) #variance = support^2 / 12\n",
    "    for i in range(num_samples): #loop to generate all samples\n",
    "        coin = randrange(2)\n",
    "        if coin == 0:\n",
    "            this_sample = normalvariate(mu=0, sigma=np.sqrt(chosen_variance))\n",
    "        elif coin == 1:\n",
    "            this_sample = uniform(-uniform_support/2.0, uniform_support/2.0)\n",
    "        else:\n",
    "            raise Exception('Logic error!', coin)\n",
    "        x[i] = this_sample\n",
    "    return x\n"
   ]
  },
  {
   "cell_type": "code",
   "execution_count": 6,
   "metadata": {
    "id": "rZDnBt-ae4yA"
   },
   "outputs": [],
   "source": [
    "def generate_process_realizations(method_to_generate_realization=None,\n",
    "                                           num_realizations=100,\n",
    "                                           num_samples_per_realization=100):\n",
    "    '''\n",
    "    Generates realizations of a given process.\n",
    "    :param method_to_generate_realization: method that will be called to get realization\n",
    "    :param num_realizations: number of realizations of the stochastic process\n",
    "    :param num_samples_per_realization: number of samples in each realization\n",
    "    :param output_file_name: name of file that will be written\n",
    "    :return all realizations of the random process as a numpy array of dimension\n",
    "            num_realizations x  num_samples_per_realization\n",
    "    '''\n",
    "    #initialize with zeros\n",
    "    all_realizations = np.zeros( (num_realizations, num_samples_per_realization) )\n",
    "    for m in range(num_realizations): #generate all realizations\n",
    "        all_realizations[m] = method_to_generate_realization(num_samples=num_samples_per_realization)\n",
    "    return all_realizations\n",
    "\n",
    "#generate realizations of the two random processes\n",
    "num_realizations=400\n",
    "num_samples_per_realization=150\n",
    "\n",
    "all_realizations = generate_process_realizations(method_to_generate_realization=get_realization_process_number_2,\n",
    "                                       num_realizations=num_realizations,\n",
    "                                       num_samples_per_realization=num_samples_per_realization)\n"
   ]
  },
  {
   "cell_type": "code",
   "execution_count": 7,
   "metadata": {
    "id": "lQlsCtXFfMlj"
   },
   "outputs": [],
   "source": [
    "def plot_histogram_of_given_random_variable(all_realizations, time_instant):\n",
    "    pass #YOU NEED TO IMPLEMENT THIS METHOD"
   ]
  },
  {
   "cell_type": "code",
   "execution_count": 8,
   "metadata": {
    "id": "-GJ-G5wygisO"
   },
   "outputs": [],
   "source": [
    "def estimate_auto_correlation(all_realizations, time_instant1, time_instant2):\n",
    "    pass #YOU NEED TO IMPLEMENT THIS METHOD"
   ]
  },
  {
   "cell_type": "code",
   "execution_count": 9,
   "metadata": {
    "id": "4jUm2UFjg0oc"
   },
   "outputs": [],
   "source": [
    "M=20 #number of realizations of the stochastic process\n",
    "num_samples=500 #number of samples in each realization\n"
   ]
  },
  {
   "cell_type": "code",
   "execution_count": 10,
   "metadata": {
    "colab": {
     "base_uri": "https://localhost:8080/"
    },
    "id": "xD2tIaSpgkYI",
    "outputId": "a1d8e6e2-f48c-406b-dd64-48d1e289a3f9"
   },
   "outputs": [
    {
     "name": "stdout",
     "output_type": "stream",
     "text": [
      "Samples of my random process:\n",
      "[[-1.75597996  1.25971823  1.55197333 ... -5.70570951  1.04493081\n",
      "  -0.76175919]\n",
      " [-1.42286125  0.58570696 -4.22131601 ...  0.72952491  3.82087824\n",
      "  -4.36664786]\n",
      " [-2.46354437 -1.5515419  -5.71178268 ... -0.13103007 -0.72810879\n",
      "   0.24994972]\n",
      " ...\n",
      " [ 2.79204143 -2.02417454 -3.16903294 ...  4.68666161 -1.69065572\n",
      "   1.14627854]\n",
      " [ 0.44830429  1.73161568 -3.52663374 ... -1.7609742  -3.63337558\n",
      "   1.22423334]\n",
      " [-3.12433931 -3.53102137  3.99207276 ...  0.31568486  1.16340339\n",
      "  -1.56058204]]\n",
      "Mean at time instant 30 is -0.06473048087687859\n"
     ]
    }
   ],
   "source": [
    "print('Samples of my random process:')\n",
    "print(all_realizations) #print part of the random process\n",
    "time_instant = 30 #choosen time instant\n",
    "#calculate the mean and show it\n",
    "this_mean = calculate_mean_of_given_random_variable(all_realizations, time_instant)\n",
    "print('Mean at time instant', time_instant, 'is', this_mean)\n"
   ]
  }
 ],
 "metadata": {
  "colab": {
   "collapsed_sections": [],
   "name": "stochastic_proc.ipynb",
   "provenance": []
  },
  "kernelspec": {
   "display_name": "Python 3",
   "language": "python",
   "name": "python3"
  },
  "language_info": {
   "codemirror_mode": {
    "name": "ipython",
    "version": 3
   },
   "file_extension": ".py",
   "mimetype": "text/x-python",
   "name": "python",
   "nbconvert_exporter": "python",
   "pygments_lexer": "ipython3",
   "version": "3.7.9"
  }
 },
 "nbformat": 4,
 "nbformat_minor": 1
}
